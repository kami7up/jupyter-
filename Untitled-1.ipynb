{
 "cells": [
  {
   "cell_type": "code",
   "execution_count": null,
   "id": "c1fb9ae7",
   "metadata": {},
   "outputs": [],
   "source": [
    "import numpy as np\n",
    "arr = np.array ([10, 20, 30, 40, 50])\n",
    "print(arr)"
   ]
  },
  {
   "cell_type": "code",
   "execution_count": null,
   "id": "b82985e0",
   "metadata": {},
   "outputs": [],
   "source": [
    "! pip install numpy "
   ]
  },
  {
   "cell_type": "code",
   "execution_count": null,
   "id": "04abe712",
   "metadata": {},
   "outputs": [],
   "source": [
    "import numpy as np\n",
    "arr = np.array ([10, 20, 30, 40, 50])\n",
    "print(arr)"
   ]
  },
  {
   "cell_type": "code",
   "execution_count": null,
   "id": "a27737f2",
   "metadata": {},
   "outputs": [],
   "source": [
    "!python.exe -m pip install --upgrade pip "
   ]
  },
  {
   "cell_type": "code",
   "execution_count": null,
   "id": "3f4feb3e",
   "metadata": {},
   "outputs": [],
   "source": [
    "arr.ndim"
   ]
  },
  {
   "cell_type": "code",
   "execution_count": null,
   "id": "5c028f69",
   "metadata": {},
   "outputs": [],
   "source": [
    "arr.shape"
   ]
  },
  {
   "cell_type": "code",
   "execution_count": null,
   "id": "aba60e77",
   "metadata": {},
   "outputs": [],
   "source": [
    "len(arr)"
   ]
  },
  {
   "cell_type": "code",
   "execution_count": null,
   "id": "c6b9364c",
   "metadata": {},
   "outputs": [],
   "source": [
    "arr_2d = np.array([\n",
    "    [10, 20, 30, 40, 50],\n",
    "    [100, 200, 300, 400, 500],\n",
    "])\n",
    "print(arr_2d)"
   ]
  },
  {
   "cell_type": "code",
   "execution_count": null,
   "id": "4696dc53",
   "metadata": {},
   "outputs": [],
   "source": [
    "arr_2d.ndim"
   ]
  },
  {
   "cell_type": "code",
   "execution_count": null,
   "id": "eee369d8",
   "metadata": {},
   "outputs": [],
   "source": [
    "arr_2d.shape"
   ]
  },
  {
   "cell_type": "code",
   "execution_count": null,
   "id": "df621010",
   "metadata": {},
   "outputs": [],
   "source": [
    "len(arr_2d)"
   ]
  },
  {
   "cell_type": "code",
   "execution_count": null,
   "id": "d0da1d0f",
   "metadata": {},
   "outputs": [],
   "source": [
    "arr_2d.size"
   ]
  },
  {
   "cell_type": "code",
   "execution_count": null,
   "id": "c2d7eb80",
   "metadata": {},
   "outputs": [],
   "source": [
    "type(arr_2d)"
   ]
  },
  {
   "cell_type": "code",
   "execution_count": null,
   "id": "5a3100c6",
   "metadata": {},
   "outputs": [],
   "source": [
    "arr_2d.dtype"
   ]
  },
  {
   "cell_type": "markdown",
   "id": "f74abe36",
   "metadata": {},
   "source": [
    "1 - Every element in the array must of the same type and size \n",
    "2 - If an array's elements are also arrays, those inner arrays must have the same type and number of elements as each other.\n",
    "3 - Multidimensional arrays must be rectangular and not jagged.  "
   ]
  },
  {
   "cell_type": "code",
   "execution_count": null,
   "id": "4e28d9ea",
   "metadata": {},
   "outputs": [],
   "source": [
    "np.array([1, 2, 3]) "
   ]
  },
  {
   "cell_type": "code",
   "execution_count": null,
   "id": "058f9f6c",
   "metadata": {},
   "outputs": [],
   "source": [
    "np.array([1, 'hello', 3])"
   ]
  },
  {
   "cell_type": "markdown",
   "id": "c8015536",
   "metadata": {},
   "source": [
    "Here in the second arrray the notebook has casted the integers as strings in order to satisfy the property that every element is of the same type. "
   ]
  },
  {
   "cell_type": "code",
   "execution_count": null,
   "id": "732f68a3",
   "metadata": {},
   "outputs": [],
   "source": [
    "foo = np.array([1, 'hello', 2])\n",
    "print(foo)"
   ]
  },
  {
   "cell_type": "code",
   "execution_count": null,
   "id": "72a95672",
   "metadata": {},
   "outputs": [],
   "source": [
    "foo[0] = \"a really really really long string\"\n",
    "print(foo)"
   ]
  },
  {
   "cell_type": "code",
   "execution_count": null,
   "id": "d531de95",
   "metadata": {},
   "outputs": [],
   "source": [
    "import numpy as np\n",
    "x = np.array([[1, 2, 3], [4, 5, 6]])\n",
    "print(\"x:/{}\".format(x))"
   ]
  },
  {
   "cell_type": "code",
   "execution_count": null,
   "id": "9d8a52d1",
   "metadata": {},
   "outputs": [],
   "source": [
    "%pip install scipy \n",
    "result = stats.ttest_ind([1, 2, 3], [4, 5, 6])\n",
    "print(result)\n",
    "\n",
    "\n"
   ]
  },
  {
   "cell_type": "code",
   "execution_count": null,
   "id": "d8e9d9da",
   "metadata": {},
   "outputs": [],
   "source": [
    "from scipy import sparse\n",
    "\n",
    "eye = np.eye(4)\n",
    "print(\"Numpy.array:\\n{}\".format(eye))"
   ]
  },
  {
   "cell_type": "code",
   "execution_count": null,
   "id": "4b86f8fc",
   "metadata": {},
   "outputs": [],
   "source": [
    "\n",
    "from scipy import stats\n",
    "print(stats)"
   ]
  },
  {
   "cell_type": "code",
   "execution_count": null,
   "id": "11804a39",
   "metadata": {},
   "outputs": [],
   "source": [
    "data = [10, 20, 30, 40, 50]\n",
    "z_scores = stats.zscore(data)\n",
    "print(z_scores)"
   ]
  },
  {
   "cell_type": "code",
   "execution_count": null,
   "id": "85b3a160",
   "metadata": {},
   "outputs": [],
   "source": [
    "sparse_matrix = sparse.csr_matrix(eye)\n",
    "print(\"\\nSciPy sparse CSR matrix:\\n{}\".format(sparse_matrix))"
   ]
  },
  {
   "cell_type": "code",
   "execution_count": null,
   "id": "671bf7ed",
   "metadata": {},
   "outputs": [],
   "source": [
    "data = np.ones(4)\n",
    "row_indices = np.arange(4)\n",
    "col_indices = np.arange(4)\n",
    "eye_coo = sparse.coo_matrix((data, (row_indices, col_indices)))\n",
    "print(\"COO representation:\\n{}\".format(eye_coo))"
   ]
  },
  {
   "cell_type": "code",
   "execution_count": null,
   "id": "f62a17d1",
   "metadata": {},
   "outputs": [],
   "source": [
    "%matplotlib inline\n",
    "\n"
   ]
  },
  {
   "cell_type": "code",
   "execution_count": null,
   "id": "aa45b28f",
   "metadata": {},
   "outputs": [],
   "source": [
    "%pip show matplotlib\n"
   ]
  },
  {
   "cell_type": "code",
   "execution_count": null,
   "id": "9b3b99a9",
   "metadata": {},
   "outputs": [],
   "source": [
    "%pip install matplotlib"
   ]
  },
  {
   "cell_type": "code",
   "execution_count": null,
   "id": "b894b5c7",
   "metadata": {},
   "outputs": [],
   "source": [
    "\n",
    "\n",
    "%matplotlib inline\n",
    "import matplotlib.pyplot as plt\n",
    "\n"
   ]
  },
  {
   "cell_type": "code",
   "execution_count": null,
   "id": "dcb0f292",
   "metadata": {},
   "outputs": [],
   "source": [
    "x = np.linspace (-10, 10, 100)\n",
    "y = np.sin(x)\n",
    "plt.plot(x, y, marker=\"x\")"
   ]
  },
  {
   "cell_type": "code",
   "execution_count": null,
   "id": "17857d5e",
   "metadata": {},
   "outputs": [],
   "source": [
    "%pip install pandas "
   ]
  },
  {
   "cell_type": "code",
   "execution_count": null,
   "id": "aa094da2",
   "metadata": {},
   "outputs": [],
   "source": [
    "import pandas as pd"
   ]
  },
  {
   "cell_type": "code",
   "execution_count": null,
   "id": "9bdb7131",
   "metadata": {},
   "outputs": [],
   "source": [
    "data = {'name' :[\"John\", \"Anna\", \"Peter\", \"Linda\"],\n",
    "        'location' :[\"New York\", \"Paris\", \"London\", \"Berlin\"],\n",
    "        'Age' :[24, 33, 45, 26]\n",
    "        }\n",
    "data_pandas = pd.DataFrame(data)\n",
    "display(data_pandas)\n"
   ]
  },
  {
   "cell_type": "code",
   "execution_count": 85,
   "id": "098d452f",
   "metadata": {},
   "outputs": [
    {
     "name": "stdout",
     "output_type": "stream",
     "text": [
      "Collecting scikit-learn\n",
      "  Downloading scikit_learn-1.6.1-cp313-cp313-win_amd64.whl.metadata (15 kB)\n",
      "Requirement already satisfied: numpy>=1.19.5 in c:\\users\\dell\\appdata\\local\\programs\\python\\python313\\lib\\site-packages (from scikit-learn) (2.2.5)\n",
      "Requirement already satisfied: scipy>=1.6.0 in c:\\users\\dell\\appdata\\local\\programs\\python\\python313\\lib\\site-packages (from scikit-learn) (1.15.3)\n",
      "Collecting joblib>=1.2.0 (from scikit-learn)\n",
      "  Downloading joblib-1.5.0-py3-none-any.whl.metadata (5.6 kB)\n",
      "Collecting threadpoolctl>=3.1.0 (from scikit-learn)\n",
      "  Downloading threadpoolctl-3.6.0-py3-none-any.whl.metadata (13 kB)\n",
      "Downloading scikit_learn-1.6.1-cp313-cp313-win_amd64.whl (11.1 MB)\n",
      "   ---------------------------------------- 0.0/11.1 MB ? eta -:--:--\n",
      "   ---------------------------------------- 0.0/11.1 MB ? eta -:--:--\n",
      "    --------------------------------------- 0.3/11.1 MB ? eta -:--:--\n",
      "    --------------------------------------- 0.3/11.1 MB ? eta -:--:--\n",
      "   - -------------------------------------- 0.5/11.1 MB 603.4 kB/s eta 0:00:18\n",
      "   - -------------------------------------- 0.5/11.1 MB 603.4 kB/s eta 0:00:18\n",
      "   -- ------------------------------------- 0.8/11.1 MB 604.8 kB/s eta 0:00:18\n",
      "   -- ------------------------------------- 0.8/11.1 MB 604.8 kB/s eta 0:00:18\n",
      "   --- ------------------------------------ 1.0/11.1 MB 616.5 kB/s eta 0:00:17\n",
      "   --- ------------------------------------ 1.0/11.1 MB 616.5 kB/s eta 0:00:17\n",
      "   ---- ----------------------------------- 1.3/11.1 MB 610.4 kB/s eta 0:00:16\n",
      "   ---- ----------------------------------- 1.3/11.1 MB 610.4 kB/s eta 0:00:16\n",
      "   ----- ---------------------------------- 1.6/11.1 MB 611.4 kB/s eta 0:00:16\n",
      "   ----- ---------------------------------- 1.6/11.1 MB 611.4 kB/s eta 0:00:16\n",
      "   ------ --------------------------------- 1.8/11.1 MB 610.2 kB/s eta 0:00:16\n",
      "   ------ --------------------------------- 1.8/11.1 MB 610.2 kB/s eta 0:00:16\n",
      "   ------- -------------------------------- 2.1/11.1 MB 603.4 kB/s eta 0:00:15\n",
      "   ------- -------------------------------- 2.1/11.1 MB 603.4 kB/s eta 0:00:15\n",
      "   ------- -------------------------------- 2.1/11.1 MB 603.4 kB/s eta 0:00:15\n",
      "   -------- ------------------------------- 2.4/11.1 MB 596.2 kB/s eta 0:00:15\n",
      "   -------- ------------------------------- 2.4/11.1 MB 596.2 kB/s eta 0:00:15\n",
      "   --------- ------------------------------ 2.6/11.1 MB 593.7 kB/s eta 0:00:15\n",
      "   --------- ------------------------------ 2.6/11.1 MB 593.7 kB/s eta 0:00:15\n",
      "   ---------- ----------------------------- 2.9/11.1 MB 596.0 kB/s eta 0:00:14\n",
      "   ---------- ----------------------------- 2.9/11.1 MB 596.0 kB/s eta 0:00:14\n",
      "   ----------- ---------------------------- 3.1/11.1 MB 598.4 kB/s eta 0:00:14\n",
      "   ----------- ---------------------------- 3.1/11.1 MB 598.4 kB/s eta 0:00:14\n",
      "   ------------ --------------------------- 3.4/11.1 MB 599.5 kB/s eta 0:00:13\n",
      "   ------------ --------------------------- 3.4/11.1 MB 599.5 kB/s eta 0:00:13\n",
      "   ------------- -------------------------- 3.7/11.1 MB 601.0 kB/s eta 0:00:13\n",
      "   ------------- -------------------------- 3.7/11.1 MB 601.0 kB/s eta 0:00:13\n",
      "   -------------- ------------------------- 3.9/11.1 MB 599.6 kB/s eta 0:00:12\n",
      "   -------------- ------------------------- 3.9/11.1 MB 599.6 kB/s eta 0:00:12\n",
      "   --------------- ------------------------ 4.2/11.1 MB 601.0 kB/s eta 0:00:12\n",
      "   --------------- ------------------------ 4.2/11.1 MB 601.0 kB/s eta 0:00:12\n",
      "   ---------------- ----------------------- 4.5/11.1 MB 602.1 kB/s eta 0:00:11\n",
      "   ---------------- ----------------------- 4.5/11.1 MB 602.1 kB/s eta 0:00:11\n",
      "   ----------------- ---------------------- 4.7/11.1 MB 602.0 kB/s eta 0:00:11\n",
      "   ----------------- ---------------------- 4.7/11.1 MB 602.0 kB/s eta 0:00:11\n",
      "   ----------------- ---------------------- 5.0/11.1 MB 603.6 kB/s eta 0:00:11\n",
      "   ----------------- ---------------------- 5.0/11.1 MB 603.6 kB/s eta 0:00:11\n",
      "   ------------------ --------------------- 5.2/11.1 MB 604.8 kB/s eta 0:00:10\n",
      "   ------------------ --------------------- 5.2/11.1 MB 604.8 kB/s eta 0:00:10\n",
      "   ------------------- -------------------- 5.5/11.1 MB 604.6 kB/s eta 0:00:10\n",
      "   ------------------- -------------------- 5.5/11.1 MB 604.6 kB/s eta 0:00:10\n",
      "   -------------------- ------------------- 5.8/11.1 MB 604.3 kB/s eta 0:00:09\n",
      "   -------------------- ------------------- 5.8/11.1 MB 604.3 kB/s eta 0:00:09\n",
      "   --------------------- ------------------ 6.0/11.1 MB 605.0 kB/s eta 0:00:09\n",
      "   --------------------- ------------------ 6.0/11.1 MB 605.0 kB/s eta 0:00:09\n",
      "   ---------------------- ----------------- 6.3/11.1 MB 605.2 kB/s eta 0:00:08\n",
      "   ---------------------- ----------------- 6.3/11.1 MB 605.2 kB/s eta 0:00:08\n",
      "   ----------------------- ---------------- 6.6/11.1 MB 604.5 kB/s eta 0:00:08\n",
      "   ----------------------- ---------------- 6.6/11.1 MB 604.5 kB/s eta 0:00:08\n",
      "   ------------------------ --------------- 6.8/11.1 MB 606.5 kB/s eta 0:00:08\n",
      "   ------------------------ --------------- 6.8/11.1 MB 606.5 kB/s eta 0:00:08\n",
      "   ------------------------- -------------- 7.1/11.1 MB 606.6 kB/s eta 0:00:07\n",
      "   ------------------------- -------------- 7.1/11.1 MB 606.6 kB/s eta 0:00:07\n",
      "   -------------------------- ------------- 7.3/11.1 MB 607.3 kB/s eta 0:00:07\n",
      "   -------------------------- ------------- 7.3/11.1 MB 607.3 kB/s eta 0:00:07\n",
      "   --------------------------- ------------ 7.6/11.1 MB 607.6 kB/s eta 0:00:06\n",
      "   --------------------------- ------------ 7.6/11.1 MB 607.6 kB/s eta 0:00:06\n",
      "   ---------------------------- ----------- 7.9/11.1 MB 607.1 kB/s eta 0:00:06\n",
      "   ---------------------------- ----------- 7.9/11.1 MB 607.1 kB/s eta 0:00:06\n",
      "   ----------------------------- ---------- 8.1/11.1 MB 607.1 kB/s eta 0:00:05\n",
      "   ----------------------------- ---------- 8.1/11.1 MB 607.1 kB/s eta 0:00:05\n",
      "   ------------------------------ --------- 8.4/11.1 MB 607.4 kB/s eta 0:00:05\n",
      "   ------------------------------ --------- 8.4/11.1 MB 607.4 kB/s eta 0:00:05\n",
      "   ------------------------------- -------- 8.7/11.1 MB 607.4 kB/s eta 0:00:04\n",
      "   ------------------------------- -------- 8.7/11.1 MB 607.4 kB/s eta 0:00:04\n",
      "   -------------------------------- ------- 8.9/11.1 MB 607.9 kB/s eta 0:00:04\n",
      "   -------------------------------- ------- 8.9/11.1 MB 607.9 kB/s eta 0:00:04\n",
      "   --------------------------------- ------ 9.2/11.1 MB 607.6 kB/s eta 0:00:04\n",
      "   ---------------------------------- ----- 9.4/11.1 MB 608.0 kB/s eta 0:00:03\n",
      "   ---------------------------------- ----- 9.4/11.1 MB 608.0 kB/s eta 0:00:03\n",
      "   ----------------------------------- ---- 9.7/11.1 MB 608.3 kB/s eta 0:00:03\n",
      "   ----------------------------------- ---- 9.7/11.1 MB 608.3 kB/s eta 0:00:03\n",
      "   ----------------------------------- ---- 10.0/11.1 MB 608.1 kB/s eta 0:00:02\n",
      "   ----------------------------------- ---- 10.0/11.1 MB 608.1 kB/s eta 0:00:02\n",
      "   ------------------------------------ --- 10.2/11.1 MB 608.9 kB/s eta 0:00:02\n",
      "   ------------------------------------ --- 10.2/11.1 MB 608.9 kB/s eta 0:00:02\n",
      "   ------------------------------------- -- 10.5/11.1 MB 608.9 kB/s eta 0:00:01\n",
      "   ------------------------------------- -- 10.5/11.1 MB 608.9 kB/s eta 0:00:01\n",
      "   -------------------------------------- - 10.7/11.1 MB 609.0 kB/s eta 0:00:01\n",
      "   -------------------------------------- - 10.7/11.1 MB 609.0 kB/s eta 0:00:01\n",
      "   ---------------------------------------  11.0/11.1 MB 608.9 kB/s eta 0:00:01\n",
      "   ---------------------------------------- 11.1/11.1 MB 603.7 kB/s eta 0:00:00\n",
      "Downloading joblib-1.5.0-py3-none-any.whl (307 kB)\n",
      "Downloading threadpoolctl-3.6.0-py3-none-any.whl (18 kB)\n",
      "Installing collected packages: threadpoolctl, joblib, scikit-learn\n",
      "\n",
      "   ------------- -------------------------- 1/3 [joblib]\n",
      "   ------------- -------------------------- 1/3 [joblib]\n",
      "   ------------- -------------------------- 1/3 [joblib]\n",
      "   ------------- -------------------------- 1/3 [joblib]\n",
      "   ------------- -------------------------- 1/3 [joblib]\n",
      "   -------------------------- ------------- 2/3 [scikit-learn]\n",
      "   -------------------------- ------------- 2/3 [scikit-learn]\n",
      "   -------------------------- ------------- 2/3 [scikit-learn]\n",
      "   -------------------------- ------------- 2/3 [scikit-learn]\n",
      "   -------------------------- ------------- 2/3 [scikit-learn]\n",
      "   -------------------------- ------------- 2/3 [scikit-learn]\n",
      "   -------------------------- ------------- 2/3 [scikit-learn]\n",
      "   -------------------------- ------------- 2/3 [scikit-learn]\n",
      "   -------------------------- ------------- 2/3 [scikit-learn]\n",
      "   -------------------------- ------------- 2/3 [scikit-learn]\n",
      "   -------------------------- ------------- 2/3 [scikit-learn]\n",
      "   -------------------------- ------------- 2/3 [scikit-learn]\n",
      "   -------------------------- ------------- 2/3 [scikit-learn]\n",
      "   -------------------------- ------------- 2/3 [scikit-learn]\n",
      "   -------------------------- ------------- 2/3 [scikit-learn]\n",
      "   -------------------------- ------------- 2/3 [scikit-learn]\n",
      "   -------------------------- ------------- 2/3 [scikit-learn]\n",
      "   -------------------------- ------------- 2/3 [scikit-learn]\n",
      "   -------------------------- ------------- 2/3 [scikit-learn]\n",
      "   -------------------------- ------------- 2/3 [scikit-learn]\n",
      "   -------------------------- ------------- 2/3 [scikit-learn]\n",
      "   -------------------------- ------------- 2/3 [scikit-learn]\n",
      "   -------------------------- ------------- 2/3 [scikit-learn]\n",
      "   -------------------------- ------------- 2/3 [scikit-learn]\n",
      "   -------------------------- ------------- 2/3 [scikit-learn]\n",
      "   -------------------------- ------------- 2/3 [scikit-learn]\n",
      "   -------------------------- ------------- 2/3 [scikit-learn]\n",
      "   -------------------------- ------------- 2/3 [scikit-learn]\n",
      "   -------------------------- ------------- 2/3 [scikit-learn]\n",
      "   -------------------------- ------------- 2/3 [scikit-learn]\n",
      "   -------------------------- ------------- 2/3 [scikit-learn]\n",
      "   -------------------------- ------------- 2/3 [scikit-learn]\n",
      "   -------------------------- ------------- 2/3 [scikit-learn]\n",
      "   -------------------------- ------------- 2/3 [scikit-learn]\n",
      "   -------------------------- ------------- 2/3 [scikit-learn]\n",
      "   -------------------------- ------------- 2/3 [scikit-learn]\n",
      "   -------------------------- ------------- 2/3 [scikit-learn]\n",
      "   -------------------------- ------------- 2/3 [scikit-learn]\n",
      "   -------------------------- ------------- 2/3 [scikit-learn]\n",
      "   -------------------------- ------------- 2/3 [scikit-learn]\n",
      "   -------------------------- ------------- 2/3 [scikit-learn]\n",
      "   -------------------------- ------------- 2/3 [scikit-learn]\n",
      "   -------------------------- ------------- 2/3 [scikit-learn]\n",
      "   -------------------------- ------------- 2/3 [scikit-learn]\n",
      "   -------------------------- ------------- 2/3 [scikit-learn]\n",
      "   -------------------------- ------------- 2/3 [scikit-learn]\n",
      "   -------------------------- ------------- 2/3 [scikit-learn]\n",
      "   -------------------------- ------------- 2/3 [scikit-learn]\n",
      "   -------------------------- ------------- 2/3 [scikit-learn]\n",
      "   -------------------------- ------------- 2/3 [scikit-learn]\n",
      "   -------------------------- ------------- 2/3 [scikit-learn]\n",
      "   -------------------------- ------------- 2/3 [scikit-learn]\n",
      "   -------------------------- ------------- 2/3 [scikit-learn]\n",
      "   -------------------------- ------------- 2/3 [scikit-learn]\n",
      "   -------------------------- ------------- 2/3 [scikit-learn]\n",
      "   -------------------------- ------------- 2/3 [scikit-learn]\n",
      "   -------------------------- ------------- 2/3 [scikit-learn]\n",
      "   -------------------------- ------------- 2/3 [scikit-learn]\n",
      "   -------------------------- ------------- 2/3 [scikit-learn]\n",
      "   -------------------------- ------------- 2/3 [scikit-learn]\n",
      "   -------------------------- ------------- 2/3 [scikit-learn]\n",
      "   -------------------------- ------------- 2/3 [scikit-learn]\n",
      "   -------------------------- ------------- 2/3 [scikit-learn]\n",
      "   -------------------------- ------------- 2/3 [scikit-learn]\n",
      "   -------------------------- ------------- 2/3 [scikit-learn]\n",
      "   -------------------------- ------------- 2/3 [scikit-learn]\n",
      "   -------------------------- ------------- 2/3 [scikit-learn]\n",
      "   -------------------------- ------------- 2/3 [scikit-learn]\n",
      "   -------------------------- ------------- 2/3 [scikit-learn]\n",
      "   -------------------------- ------------- 2/3 [scikit-learn]\n",
      "   -------------------------- ------------- 2/3 [scikit-learn]\n",
      "   -------------------------- ------------- 2/3 [scikit-learn]\n",
      "   -------------------------- ------------- 2/3 [scikit-learn]\n",
      "   -------------------------- ------------- 2/3 [scikit-learn]\n",
      "   -------------------------- ------------- 2/3 [scikit-learn]\n",
      "   -------------------------- ------------- 2/3 [scikit-learn]\n",
      "   -------------------------- ------------- 2/3 [scikit-learn]\n",
      "   -------------------------- ------------- 2/3 [scikit-learn]\n",
      "   -------------------------- ------------- 2/3 [scikit-learn]\n",
      "   -------------------------- ------------- 2/3 [scikit-learn]\n",
      "   -------------------------- ------------- 2/3 [scikit-learn]\n",
      "   -------------------------- ------------- 2/3 [scikit-learn]\n",
      "   -------------------------- ------------- 2/3 [scikit-learn]\n",
      "   -------------------------- ------------- 2/3 [scikit-learn]\n",
      "   -------------------------- ------------- 2/3 [scikit-learn]\n",
      "   -------------------------- ------------- 2/3 [scikit-learn]\n",
      "   -------------------------- ------------- 2/3 [scikit-learn]\n",
      "   -------------------------- ------------- 2/3 [scikit-learn]\n",
      "   -------------------------- ------------- 2/3 [scikit-learn]\n",
      "   -------------------------- ------------- 2/3 [scikit-learn]\n",
      "   -------------------------- ------------- 2/3 [scikit-learn]\n",
      "   -------------------------- ------------- 2/3 [scikit-learn]\n",
      "   -------------------------- ------------- 2/3 [scikit-learn]\n",
      "   -------------------------- ------------- 2/3 [scikit-learn]\n",
      "   -------------------------- ------------- 2/3 [scikit-learn]\n",
      "   -------------------------- ------------- 2/3 [scikit-learn]\n",
      "   -------------------------- ------------- 2/3 [scikit-learn]\n",
      "   -------------------------- ------------- 2/3 [scikit-learn]\n",
      "   -------------------------- ------------- 2/3 [scikit-learn]\n",
      "   ---------------------------------------- 3/3 [scikit-learn]\n",
      "\n",
      "Successfully installed joblib-1.5.0 scikit-learn-1.6.1 threadpoolctl-3.6.0\n",
      "Note: you may need to restart the kernel to use updated packages.\n"
     ]
    }
   ],
   "source": [
    "%pip install scikit-learn"
   ]
  },
  {
   "cell_type": "code",
   "execution_count": 88,
   "id": "72400273",
   "metadata": {},
   "outputs": [
    {
     "name": "stdout",
     "output_type": "stream",
     "text": [
      "<module 'sklearn' from 'c:\\\\Users\\\\Dell\\\\AppData\\\\Local\\\\Programs\\\\Python\\\\Python313\\\\Lib\\\\site-packages\\\\sklearn\\\\__init__.py'>\n",
      "1.6.1\n"
     ]
    }
   ],
   "source": [
    "import sklearn\n",
    "print(sklearn)\n",
    "print(sklearn.__version__)"
   ]
  },
  {
   "cell_type": "code",
   "execution_count": 92,
   "id": "272a92dc",
   "metadata": {},
   "outputs": [
    {
     "name": "stdout",
     "output_type": "stream",
     "text": [
      "Keys of iris_dataset: \n",
      "dict_keys(['data', 'target', 'frame', 'target_names', 'DESCR', 'feature_names', 'filename', 'data_module'])\n"
     ]
    }
   ],
   "source": [
    "from sklearn.datasets import load_iris\n",
    "iris_dataset = load_iris()\n",
    "print(\"Keys of iris_dataset: \\n{}\".format(iris_dataset.keys()))"
   ]
  },
  {
   "cell_type": "code",
   "execution_count": 95,
   "id": "946d1fa0",
   "metadata": {},
   "outputs": [
    {
     "name": "stdout",
     "output_type": "stream",
     "text": [
      ".. _iris_dataset:\n",
      "\n",
      "Iris plants dataset\n",
      "--------------------\n",
      "\n",
      "**Data Set Characteristics:**\n",
      "\n",
      ":Number of Instances: 150 (50 in each of three classes)\n",
      ":Number of Attributes: 4 numeric, predictive \n",
      "...\n"
     ]
    }
   ],
   "source": [
    "print(iris_dataset['DESCR'][:193]+ \"\\n...\")"
   ]
  },
  {
   "cell_type": "code",
   "execution_count": 98,
   "id": "1912cd45",
   "metadata": {},
   "outputs": [
    {
     "name": "stdout",
     "output_type": "stream",
     "text": [
      "Target names: ['setosa' 'versicolor' 'virginica']\n"
     ]
    }
   ],
   "source": [
    "print(\"Target names: {}\".format(iris_dataset['target_names']))"
   ]
  },
  {
   "cell_type": "code",
   "execution_count": 100,
   "id": "7b960eff",
   "metadata": {},
   "outputs": [
    {
     "name": "stdout",
     "output_type": "stream",
     "text": [
      "Feature names: ['sepal length (cm)', 'sepal width (cm)', 'petal length (cm)', 'petal width (cm)']\n"
     ]
    }
   ],
   "source": [
    "print(\"Feature names: {}\".format(iris_dataset['feature_names']))"
   ]
  },
  {
   "cell_type": "code",
   "execution_count": null,
   "id": "cb117726",
   "metadata": {},
   "outputs": [],
   "source": []
  }
 ],
 "metadata": {
  "kernelspec": {
   "display_name": "Python 3",
   "language": "python",
   "name": "python3"
  },
  "language_info": {
   "codemirror_mode": {
    "name": "ipython",
    "version": 3
   },
   "file_extension": ".py",
   "mimetype": "text/x-python",
   "name": "python",
   "nbconvert_exporter": "python",
   "pygments_lexer": "ipython3",
   "version": "3.13.3"
  }
 },
 "nbformat": 4,
 "nbformat_minor": 5
}
