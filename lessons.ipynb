{
 "cells": [
  {
   "cell_type": "markdown",
   "id": "8c5ae4fe",
   "metadata": {},
   "source": [
    "# Demo jupyter notebook\n",
    "\n",
    "This notebook will exemplify **some** of the common use cases in python jupyter                  "
   ]
  },
  {
   "cell_type": "code",
   "execution_count": 20,
   "id": "865265e5",
   "metadata": {},
   "outputs": [
    {
     "name": "stdout",
     "output_type": "stream",
     "text": [
      "Hello Kimi\n"
     ]
    }
   ],
   "source": [
    "user: str = \"Kimi\"\n",
    "# print(name) \n",
    "print(f\"Hello {user}\")"
   ]
  },
  {
   "cell_type": "markdown",
   "id": "5a6a0c9a",
   "metadata": {},
   "source": [
    "## Formatting Markdown Notes\n",
    "\n",
    "* You can have lists\n",
    "* You can have [links - such as to a Markdown cheet sheet ](https://www.markdownguide.org/cheat-sheet/)"
   ]
  },
  {
   "cell_type": "code",
   "execution_count": 21,
   "id": "56a1c74f",
   "metadata": {},
   "outputs": [
    {
     "name": "stdout",
     "output_type": "stream",
     "text": [
      "Amother reference made to Kimi in this cell\n"
     ]
    }
   ],
   "source": [
    "\n",
    "print(f\"Amother reference made to {user} in this cell\")"
   ]
  },
  {
   "cell_type": "markdown",
   "id": "32b6a7d2",
   "metadata": {},
   "source": [
    "## Useful keybord shortcuts\n",
    "'control+enter' execute a cell and leave the focous / cursor in that cell. "
   ]
  },
  {
   "cell_type": "markdown",
   "id": "230d6de6",
   "metadata": {},
   "source": [
    "'shift+enter' execute a cell and move to the next cell (or create a new cell)"
   ]
  },
  {
   "cell_type": "code",
   "execution_count": 22,
   "id": "3be8f146",
   "metadata": {},
   "outputs": [
    {
     "name": "stdout",
     "output_type": "stream",
     "text": [
      "some important computation...\n"
     ]
    },
    {
     "data": {
      "text/plain": [
       "11110.1"
      ]
     },
     "execution_count": 22,
     "metadata": {},
     "output_type": "execute_result"
    }
   ],
   "source": [
    "print(\"some important computation...\")\n",
    "total: float = 110.0 + 1000.10\n",
    "total + 10000"
   ]
  },
  {
   "cell_type": "markdown",
   "id": "cf13164b",
   "metadata": {},
   "source": [
    "Expression written as the last line of a cell are automatically output. \n",
    "\n",
    "This is very handy to not to call the print function at the end of every cell. "
   ]
  },
  {
   "cell_type": "markdown",
   "id": "25bc5ee0",
   "metadata": {},
   "source": [
    "## Examples of importing a Module"
   ]
  },
  {
   "cell_type": "code",
   "execution_count": 23,
   "id": "0920e622",
   "metadata": {},
   "outputs": [],
   "source": [
    "import notebook_helpers\n"
   ]
  },
  {
   "cell_type": "code",
   "execution_count": 24,
   "id": "53722711",
   "metadata": {},
   "outputs": [
    {
     "ename": "ImportError",
     "evalue": "cannot import name 'add_two_ints' from 'notebook_helpers' (c:\\Users\\Dell\\Desktop\\jupyter-\\notebook_helpers.py)",
     "output_type": "error",
     "traceback": [
      "\u001b[31m---------------------------------------------------------------------------\u001b[39m",
      "\u001b[31mImportError\u001b[39m                               Traceback (most recent call last)",
      "\u001b[36mCell\u001b[39m\u001b[36m \u001b[39m\u001b[32mIn[24]\u001b[39m\u001b[32m, line 1\u001b[39m\n\u001b[32m----> \u001b[39m\u001b[32m1\u001b[39m \u001b[38;5;28;01mfrom\u001b[39;00m\u001b[38;5;250m \u001b[39m\u001b[34;01mnotebook_helpers\u001b[39;00m\u001b[38;5;250m \u001b[39m\u001b[38;5;28;01mimport\u001b[39;00m add_two_ints\n\u001b[32m      2\u001b[39m add_two_ints(\u001b[32m21\u001b[39m, \u001b[32m23\u001b[39m)\n",
      "\u001b[31mImportError\u001b[39m: cannot import name 'add_two_ints' from 'notebook_helpers' (c:\\Users\\Dell\\Desktop\\jupyter-\\notebook_helpers.py)"
     ]
    }
   ],
   "source": [
    "from notebook_helpers import add_two_ints\n",
    "add_two_ints(21, 23)"
   ]
  }
 ],
 "metadata": {
  "kernelspec": {
   "display_name": "Python 3",
   "language": "python",
   "name": "python3"
  },
  "language_info": {
   "codemirror_mode": {
    "name": "ipython",
    "version": 3
   },
   "file_extension": ".py",
   "mimetype": "text/x-python",
   "name": "python",
   "nbconvert_exporter": "python",
   "pygments_lexer": "ipython3",
   "version": "3.13.3"
  }
 },
 "nbformat": 4,
 "nbformat_minor": 5
}
