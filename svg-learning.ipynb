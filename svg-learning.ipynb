{
 "cells": [
  {
   "cell_type": "code",
   "execution_count": null,
   "id": "21748c1e",
   "metadata": {},
   "outputs": [],
   "source": [
    "from IPython.display import display, SVG\n",
    "\n",
    "svg_code = '''\n",
    "<svg width=\"100\" height=\"100\" xmlns=\"http://www.w3.org/2000/svg\">\n",
    "  <rect width=\"100\" height=\"100\" fill=\"blue\"/>\n",
    "</svg>\n",
    "'''\n",
    "\n",
    "display(SVG(svg_code))"
   ]
  },
  {
   "cell_type": "code",
   "execution_count": null,
   "id": "a8c073f3",
   "metadata": {},
   "outputs": [],
   "source": []
  },
  {
   "cell_type": "code",
   "execution_count": null,
   "id": "5ef34c46",
   "metadata": {},
   "outputs": [],
   "source": [
    "<svg xmlns=\"http://www.w3.org/2000/svg\"\n",
    "     xmlns:xlink=\"http://www.w3.org/2000/svg\">\n",
    "     \n",
    "     <rect x=\"10\" y=\"10\" width=\"100\" height=\"100\"\n",
    "       style=stroke:#ff0000; fill: #ff6666; />"
   ]
  },
  {
   "cell_type": "code",
   "execution_count": null,
   "id": "9b773ce1",
   "metadata": {},
   "outputs": [],
   "source": [
    "<svg xmlns=\"http://www.w3.org/2000/svg\"\n",
    "     xmlns:xlink=\"http://www.w3.org/1999/xlink\">\n",
    "  <rect x=\"10\" y=\"10\" width=\"100\" height=\"100\" style=\"stroke:#ff0000; fill:#ff6666;\" />\n",
    "</svg>"
   ]
  },
  {
   "cell_type": "code",
   "execution_count": null,
   "id": "cb371fe4",
   "metadata": {},
   "outputs": [],
   "source": [
    "from IPython.display import display, SVG\n",
    "\n",
    "svg_code = '''\n",
    "<svg width=\"200\" height=\"200\" xmlns=\"https:www.w3.org./2000/scg\">\n",
    "  <rect width=\"150\" height=\"175\" fill=\"red\"/>\n",
    "</svg>\n",
    "'''\n",
    "\n",
    "display(SVG(svg_code))\n"
   ]
  },
  {
   "cell_type": "code",
   "execution_count": null,
   "id": "0f423b0e",
   "metadata": {},
   "outputs": [],
   "source": [
    "from IPython.display import SVG, display\n",
    "\n",
    "# SVG content for a triangle\n",
    "svg_data = '''<?xml version=\"1.0\" encoding=\"UTF-8\"?>\n",
    "<svg width=\"500\" height=\"500\" xmlns=\"http://www.w3.org/2000/svg\">\n",
    "  <!-- Background -->\n",
    "  <rect width=\"100%\" height=\"100%\" fill=\"lightblue\" />\n",
    "\n",
    "  <!-- Triangle -->\n",
    "  <polygon points=\"250,50 100,400 400,400\" fill=\"orange\" stroke=\"black\" stroke-width=\"5\" />\n",
    "</svg>\n",
    "'''\n",
    "\n",
    "# Save to file\n",
    "with open(\"triangle.svg\", \"w\") as f:\n",
    "    f.write(svg_data)\n",
    "\n",
    "# Display inline\n",
    "display(SVG(svg_data))\n"
   ]
  },
  {
   "cell_type": "code",
   "execution_count": 3,
   "id": "93595759",
   "metadata": {},
   "outputs": [
    {
     "data": {
      "image/svg+xml": [
       "<svg xmlns=\"http://www.w3.org/2000/svg\" width=\"1500\" height=\"500\">\n",
       "  <!-- Background -->\n",
       "  <rect width=\"100%\" height=\"100%\" fill=\"lightblue\"/>\n",
       "  <polygon points=\"125.0,150.0 50,350.0 200,350.0\" fill=\"orange\" stroke=\"black\" stroke-width=\"4\"/>\n",
       "  <polygon points=\"325.0,350.0 250,150.0 400,150.0\" fill=\"orange\" stroke=\"black\" stroke-width=\"4\"/>\n",
       "  <polygon points=\"525.0,150.0 450,350.0 600,350.0\" fill=\"orange\" stroke=\"black\" stroke-width=\"4\"/>\n",
       "  <polygon points=\"725.0,350.0 650,150.0 800,150.0\" fill=\"orange\" stroke=\"black\" stroke-width=\"4\"/>\n",
       "  <polygon points=\"925.0,150.0 850,350.0 1000,350.0\" fill=\"orange\" stroke=\"black\" stroke-width=\"4\"/>\n",
       "  <polygon points=\"1125.0,350.0 1050,150.0 1200,150.0\" fill=\"orange\" stroke=\"black\" stroke-width=\"4\"/>\n",
       "  <polygon points=\"1325.0,150.0 1250,350.0 1400,350.0\" fill=\"orange\" stroke=\"black\" stroke-width=\"4\"/>\n",
       "</svg>"
      ],
      "text/plain": [
       "<IPython.core.display.SVG object>"
      ]
     },
     "metadata": {},
     "output_type": "display_data"
    }
   ],
   "source": [
    "from IPython.display import SVG, display\n",
    "\n",
    "# Generate SVG with 7 alternating triangles\n",
    "svg_data = '''<?xml version=\"1.0\" encoding=\"UTF-8\"?>\n",
    "<svg width=\"1500\" height=\"500\" xmlns=\"http://www.w3.org/2000/svg\">\n",
    "  <!-- Background -->\n",
    "  <rect width=\"100%\" height=\"100%\" fill=\"lightblue\" />\n",
    "'''\n",
    "\n",
    "# Triangle base parameters\n",
    "triangle_width = 150\n",
    "triangle_height = 200\n",
    "spacing = 50\n",
    "start_x = 50\n",
    "y_center = 250\n",
    "\n",
    "# Create 7 triangles\n",
    "for i in range(7):\n",
    "    x = start_x + i * (triangle_width + spacing)\n",
    "    \n",
    "    if i % 2 == 0:\n",
    "        # Pointed side up\n",
    "        points = f\"{x + triangle_width/2},{y_center - triangle_height/2} {x},{y_center + triangle_height/2} {x + triangle_width},{y_center + triangle_height/2}\"\n",
    "    else:\n",
    "        # Pointed side down\n",
    "        points = f\"{x + triangle_width/2},{y_center + triangle_height/2} {x},{y_center - triangle_height/2} {x + triangle_width},{y_center - triangle_height/2}\"\n",
    "    \n",
    "    svg_data += f'  <polygon points=\"{points}\" fill=\"orange\" stroke=\"black\" stroke-width=\"4\" />\\n'\n",
    "\n",
    "# Close SVG\n",
    "svg_data += '</svg>'\n",
    "\n",
    "# Save to file\n",
    "with open(\"seven_triangles.svg\", \"w\") as f:\n",
    "    f.write(svg_data)\n",
    "\n",
    "# Display inline\n",
    "display(SVG(svg_data))"
   ]
  }
 ],
 "metadata": {
  "kernelspec": {
   "display_name": "venv",
   "language": "python",
   "name": "python3"
  },
  "language_info": {
   "codemirror_mode": {
    "name": "ipython",
    "version": 3
   },
   "file_extension": ".py",
   "mimetype": "text/x-python",
   "name": "python",
   "nbconvert_exporter": "python",
   "pygments_lexer": "ipython3",
   "version": "3.13.5"
  }
 },
 "nbformat": 4,
 "nbformat_minor": 5
}
