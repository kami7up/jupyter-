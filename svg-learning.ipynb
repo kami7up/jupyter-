{
 "cells": [
  {
   "cell_type": "code",
   "execution_count": null,
   "id": "21748c1e",
   "metadata": {},
   "outputs": [
    {
     "data": {
      "image/svg+xml": [
       "<svg xmlns=\"http://www.w3.org/2000/svg\" width=\"100\" height=\"100\">\n",
       "  <rect width=\"100\" height=\"100\" fill=\"blue\"/>\n",
       "</svg>"
      ],
      "text/plain": [
       "<IPython.core.display.SVG object>"
      ]
     },
     "metadata": {},
     "output_type": "display_data"
    }
   ],
   "source": [
    "from IPython.display import display, SVG\n",
    "\n",
    "svg_code = '''\n",
    "<svg width=\"100\" height=\"100\" xmlns=\"http://www.w3.org/2000/svg\">\n",
    "  <rect width=\"100\" height=\"100\" fill=\"blue\"/>\n",
    "</svg>\n",
    "'''\n",
    "\n",
    "display(SVG(svg_code))"
   ]
  },
  {
   "cell_type": "code",
   "execution_count": null,
   "id": "a8c073f3",
   "metadata": {},
   "outputs": [],
   "source": []
  },
  {
   "cell_type": "code",
   "execution_count": 1,
   "id": "5ef34c46",
   "metadata": {},
   "outputs": [
    {
     "ename": "SyntaxError",
     "evalue": "invalid syntax (2997416566.py, line 1)",
     "output_type": "error",
     "traceback": [
      "  \u001b[36mCell\u001b[39m\u001b[36m \u001b[39m\u001b[32mIn[1]\u001b[39m\u001b[32m, line 1\u001b[39m\n\u001b[31m    \u001b[39m\u001b[31m<svg xmlns=\"http://www.w3.org/2000/svg\"\u001b[39m\n    ^\n\u001b[31mSyntaxError\u001b[39m\u001b[31m:\u001b[39m invalid syntax\n"
     ]
    }
   ],
   "source": [
    "<svg xmlns=\"http://www.w3.org/2000/svg\"\n",
    "     xmlns:xlink=\"http://www.w3.org/2000/svg\">\n",
    "     \n",
    "     <rect x=\"10\" y=\"10\" width=\"100\" height=\"100\"\n",
    "       style=stroke:#ff0000; fill: #ff6666; />"
   ]
  },
  {
   "cell_type": "code",
   "execution_count": null,
   "id": "9b773ce1",
   "metadata": {},
   "outputs": [
    {
     "ename": "IndentationError",
     "evalue": "unindent does not match any outer indentation level (<string>, line 3)",
     "output_type": "error",
     "traceback": [
      "  \u001b[36mFile \u001b[39m\u001b[32m<string>:3\u001b[39m\n\u001b[31m    \u001b[39m\u001b[31m<rect x=\"10\" y=\"10\" width=\"100\" height=\"100\" style=\"stroke:#ff0000; fill:#ff6666;\" />\u001b[39m\n                                                                                         ^\n\u001b[31mIndentationError\u001b[39m\u001b[31m:\u001b[39m unindent does not match any outer indentation level\n"
     ]
    }
   ],
   "source": [
    "<svg xmlns=\"http://www.w3.org/2000/svg\"\n",
    "     xmlns:xlink=\"http://www.w3.org/1999/xlink\">\n",
    "  <rect x=\"10\" y=\"10\" width=\"100\" height=\"100\" style=\"stroke:#ff0000; fill:#ff6666;\" />\n",
    "</svg>"
   ]
  }
 ],
 "metadata": {
  "kernelspec": {
   "display_name": "Python 3",
   "language": "python",
   "name": "python3"
  },
  "language_info": {
   "codemirror_mode": {
    "name": "ipython",
    "version": 3
   },
   "file_extension": ".py",
   "mimetype": "text/x-python",
   "name": "python",
   "nbconvert_exporter": "python",
   "pygments_lexer": "ipython3",
   "version": "3.13.3"
  }
 },
 "nbformat": 4,
 "nbformat_minor": 5
}
