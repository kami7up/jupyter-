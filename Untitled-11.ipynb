{
 "cells": [
  {
   "cell_type": "code",
   "execution_count": 1,
   "id": "18048804",
   "metadata": {},
   "outputs": [],
   "source": [
    "import numpy as np"
   ]
  },
  {
   "cell_type": "code",
   "execution_count": 2,
   "id": "73b6daaa",
   "metadata": {},
   "outputs": [
    {
     "name": "stdout",
     "output_type": "stream",
     "text": [
      "[12.2  4.3  7.5  9.6]\n",
      "[ 9.8 -0.3 -1.5 -1.6]\n",
      "[13.2  4.6 13.5 22.4]\n",
      "[9.16666667 0.86956522 0.66666667 0.71428571]\n",
      "[  17.76933693    4.92457765  140.29611541 2352.53423103]\n",
      "[110  20  30  40]\n"
     ]
    },
    {
     "data": {
      "text/plain": [
       "array([-0.99999021,  0.90929743,  0.14112001, -0.7568025 ])"
      ]
     },
     "execution_count": 2,
     "metadata": {},
     "output_type": "execute_result"
    }
   ],
   "source": [
    "a = np.array([11, 2, 3, 4])\n",
    "f = np.array([1.2, 2.3, 4.5, 5.6])\n",
    "print(a + f)\n",
    "print(a - f)\n",
    "print(a * f)\n",
    "print(a / f)\n",
    "print(a ** f)\n",
    "print(a * 10)\n",
    "\n",
    "# Universal functions (ufuncs)\n",
    "\n",
    "np.sin(a) \n",
    "\n"
   ]
  },
  {
   "cell_type": "markdown",
   "id": "9d302919",
   "metadata": {},
   "source": [
    "Create a null vector of size 10"
   ]
  },
  {
   "cell_type": "code",
   "execution_count": 3,
   "id": "9d7cc3c0",
   "metadata": {},
   "outputs": [
    {
     "ename": "NameError",
     "evalue": "name 'hint' is not defined",
     "output_type": "error",
     "traceback": [
      "\u001b[31m---------------------------------------------------------------------------\u001b[39m",
      "\u001b[31mNameError\u001b[39m                                 Traceback (most recent call last)",
      "\u001b[36mCell\u001b[39m\u001b[36m \u001b[39m\u001b[32mIn[3]\u001b[39m\u001b[32m, line 1\u001b[39m\n\u001b[32m----> \u001b[39m\u001b[32m1\u001b[39m \u001b[43mhint\u001b[49m(\u001b[32m3\u001b[39m)\n",
      "\u001b[31mNameError\u001b[39m: name 'hint' is not defined"
     ]
    }
   ],
   "source": [
    "hint(3)"
   ]
  },
  {
   "cell_type": "code",
   "execution_count": null,
   "id": "c1644ea8",
   "metadata": {},
   "outputs": [],
   "source": [
    "null_vector = np.zero(10)\n",
    "\n"
   ]
  },
  {
   "cell_type": "code",
   "execution_count": null,
   "id": "8a3af5c8",
   "metadata": {},
   "outputs": [],
   "source": [
    "null_vector"
   ]
  },
  {
   "cell_type": "code",
   "execution_count": null,
   "id": "7bb85bb4",
   "metadata": {},
   "outputs": [],
   "source": [
    "import numpy as np\n",
    "a = np.array([1, 2, 3, 4])\n",
    "\n",
    "print(a)\n",
    "print(a.shape)\n",
    "print(a.ndim)\n",
    "print(a.shape)\n",
    "print(a.size)\n",
    "print(a.itemsize)\n",
    "print(a.dtype)"
   ]
  },
  {
   "cell_type": "code",
   "execution_count": null,
   "id": "55de5b2e",
   "metadata": {},
   "outputs": [
    {
     "name": "stdout",
     "output_type": "stream",
     "text": [
      "[1 2 3]\n",
      "1\n",
      "[10  2  3]\n",
      "[20  0  9]\n"
     ]
    }
   ],
   "source": [
    "a = np.array([1, 2, 3])\n",
    "\n",
    "print(a)\n",
    "print(a[0])\n",
    "a[0] = 10\n",
    "print(a)\n",
    "\n",
    "b = a * np.array([2, 0, 3])\n",
    "print(b)\n",
    "\n",
    "\n"
   ]
  },
  {
   "cell_type": "code",
   "execution_count": null,
   "id": "a8f6f626",
   "metadata": {},
   "outputs": [
    {
     "name": "stdout",
     "output_type": "stream",
     "text": [
      "[1, 2, 3, 1, 2, 3]\n",
      "[1 2 3]\n"
     ]
    }
   ],
   "source": [
    "l = [1, 2, 3]\n",
    "a = np.array([1, 2, 3])\n",
    "\n",
    "#l.append(4) it will add 4 to the above given python list another method is below of adding an element to python lists\n",
    "# l = l + (4) this another way to add an element 4 to the python list\n",
    "#l = l * 2 this will repeat the same elemnets within the list. \n",
    "print(l)\n",
    "#a.append([4]) says it is an error in numpy. \n",
    "#a = a + np.array([4]) it will add the number 4 with all the numbers of the np.arry has and this method is called broadcasting\n",
    "print(a)"
   ]
  },
  {
   "cell_type": "code",
   "execution_count": 4,
   "id": "489f52eb",
   "metadata": {},
   "outputs": [
    {
     "name": "stdout",
     "output_type": "stream",
     "text": [
      "[100.0, 100.01, 100.02, 100.03, 100.04]\n"
     ]
    }
   ],
   "source": [
    "prices = []\n",
    "N = 60*60*24*365\n",
    "for i in range(N):\n",
    "    prices.append(100 + i/100)\n",
    "\n",
    "print(prices[:5])"
   ]
  },
  {
   "cell_type": "code",
   "execution_count": 5,
   "id": "1ec4b2ca",
   "metadata": {},
   "outputs": [
    {
     "name": "stdout",
     "output_type": "stream",
     "text": [
      "157779.995\n"
     ]
    }
   ],
   "source": [
    "avg = 0.0\n",
    "for p in prices:\n",
    "    avg += p/len(prices)\n",
    "\n",
    "print(avg)"
   ]
  },
  {
   "cell_type": "code",
   "execution_count": 6,
   "id": "00c03311",
   "metadata": {},
   "outputs": [
    {
     "ename": "AttributeError",
     "evalue": "module 'numpy' has no attribute 'arrange'",
     "output_type": "error",
     "traceback": [
      "\u001b[31m---------------------------------------------------------------------------\u001b[39m",
      "\u001b[31mAttributeError\u001b[39m                            Traceback (most recent call last)",
      "\u001b[36mCell\u001b[39m\u001b[36m \u001b[39m\u001b[32mIn[6]\u001b[39m\u001b[32m, line 1\u001b[39m\n\u001b[32m----> \u001b[39m\u001b[32m1\u001b[39m prices = \u001b[32m100\u001b[39m + \u001b[43mnp\u001b[49m\u001b[43m.\u001b[49m\u001b[43marrange\u001b[49m(N)/\u001b[32m100\u001b[39m\n\u001b[32m      2\u001b[39m \u001b[38;5;28mprint\u001b[39m(prices)\n",
      "\u001b[36mFile \u001b[39m\u001b[32mc:\\Users\\Dell\\AppData\\Local\\Programs\\Python\\Python313\\Lib\\site-packages\\numpy\\__init__.py:427\u001b[39m, in \u001b[36m__getattr__\u001b[39m\u001b[34m(attr)\u001b[39m\n\u001b[32m    424\u001b[39m     \u001b[38;5;28;01mimport\u001b[39;00m\u001b[38;5;250m \u001b[39m\u001b[34;01mnumpy\u001b[39;00m\u001b[34;01m.\u001b[39;00m\u001b[34;01mchar\u001b[39;00m\u001b[38;5;250m \u001b[39m\u001b[38;5;28;01mas\u001b[39;00m\u001b[38;5;250m \u001b[39m\u001b[34;01mchar\u001b[39;00m\n\u001b[32m    425\u001b[39m     \u001b[38;5;28;01mreturn\u001b[39;00m char.chararray\n\u001b[32m--> \u001b[39m\u001b[32m427\u001b[39m \u001b[38;5;28;01mraise\u001b[39;00m \u001b[38;5;167;01mAttributeError\u001b[39;00m(\u001b[33m\"\u001b[39m\u001b[33mmodule \u001b[39m\u001b[38;5;132;01m{!r}\u001b[39;00m\u001b[33m has no attribute \u001b[39m\u001b[33m\"\u001b[39m\n\u001b[32m    428\u001b[39m                      \u001b[33m\"\u001b[39m\u001b[38;5;132;01m{!r}\u001b[39;00m\u001b[33m\"\u001b[39m.format(\u001b[34m__name__\u001b[39m, attr))\n",
      "\u001b[31mAttributeError\u001b[39m: module 'numpy' has no attribute 'arrange'"
     ]
    }
   ],
   "source": [
    "prices = 100 + np.arrange(N)/100\n",
    "print(prices)"
   ]
  },
  {
   "cell_type": "code",
   "execution_count": 9,
   "id": "ec4e8821",
   "metadata": {},
   "outputs": [
    {
     "name": "stdout",
     "output_type": "stream",
     "text": [
      "[100.   100.01 100.02 100.03 100.04]\n"
     ]
    }
   ],
   "source": [
    "import numpy as np\n",
    "\n",
    "prices = 100 + np.arange(N) / 100\n",
    "print(prices[:5])"
   ]
  },
  {
   "cell_type": "code",
   "execution_count": 10,
   "id": "2e4f3549",
   "metadata": {},
   "outputs": [
    {
     "name": "stdout",
     "output_type": "stream",
     "text": [
      "157779.995\n"
     ]
    }
   ],
   "source": [
    "avg = np.mean(prices)\n",
    "print(avg)"
   ]
  },
  {
   "cell_type": "code",
   "execution_count": 16,
   "id": "af729f7e",
   "metadata": {},
   "outputs": [
    {
     "name": "stdout",
     "output_type": "stream",
     "text": [
      "[10 20 30 40 50]\n",
      "(5,)\n",
      "5\n",
      "1\n",
      "int64\n",
      "5\n"
     ]
    }
   ],
   "source": [
    "arr = np.array([10, 20, 30, 40, 50])\n",
    "\n",
    "print(arr)\n",
    "print(arr.shape)\n",
    "print(arr.size)\n",
    "print(arr.ndim)\n",
    "print(arr.dtype)\n",
    "print(len(arr))\n"
   ]
  },
  {
   "cell_type": "code",
   "execution_count": 20,
   "id": "82f64841",
   "metadata": {},
   "outputs": [
    {
     "name": "stdout",
     "output_type": "stream",
     "text": [
      "[[ 10  20  30  40  50]\n",
      " [100 200 300 400 500]]\n",
      "(2, 5)\n",
      "10\n",
      "2\n",
      "int64\n",
      "2\n",
      "<class 'numpy.ndarray'>\n"
     ]
    }
   ],
   "source": [
    "arr_2d = np.array([\n",
    "                  [10, 20, 30, 40, 50],\n",
    "                  [100, 200, 300, 400, 500,]\n",
    "])\n",
    "\n",
    "print(arr_2d)\n",
    "print(arr_2d.shape)\n",
    "print(arr_2d.size)\n",
    "print(arr_2d.ndim)\n",
    "print(arr_2d.dtype)\n",
    "print(len(arr_2d))\n",
    "print(type(arr_2d))"
   ]
  }
 ],
 "metadata": {
  "kernelspec": {
   "display_name": "Python 3",
   "language": "python",
   "name": "python3"
  },
  "language_info": {
   "codemirror_mode": {
    "name": "ipython",
    "version": 3
   },
   "file_extension": ".py",
   "mimetype": "text/x-python",
   "name": "python",
   "nbconvert_exporter": "python",
   "pygments_lexer": "ipython3",
   "version": "3.13.3"
  }
 },
 "nbformat": 4,
 "nbformat_minor": 5
}
