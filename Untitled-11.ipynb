{
 "cells": [
  {
   "cell_type": "code",
   "execution_count": null,
   "id": "18048804",
   "metadata": {},
   "outputs": [],
   "source": [
    "import numpy as np"
   ]
  },
  {
   "cell_type": "code",
   "execution_count": null,
   "id": "73b6daaa",
   "metadata": {},
   "outputs": [],
   "source": [
    "a = np.array([11, 2, 3, 4])\n",
    "f = np.array([1.2, 2.3, 4.5, 5.6])\n",
    "print(a + f)\n",
    "print(a - f)\n",
    "print(a * f)\n",
    "print(a / f)\n",
    "print(a ** f)\n",
    "print(a * 10)\n",
    "\n",
    "# Universal functions (ufuncs)\n",
    "\n",
    "np.sin(a) \n",
    "\n"
   ]
  },
  {
   "cell_type": "markdown",
   "id": "9d302919",
   "metadata": {},
   "source": [
    "Create a null vector of size 10"
   ]
  },
  {
   "cell_type": "code",
   "execution_count": null,
   "id": "9d7cc3c0",
   "metadata": {},
   "outputs": [],
   "source": [
    "hint(3)"
   ]
  },
  {
   "cell_type": "code",
   "execution_count": null,
   "id": "c1644ea8",
   "metadata": {},
   "outputs": [],
   "source": [
    "null_vector = np.zero(10)\n",
    "\n"
   ]
  },
  {
   "cell_type": "code",
   "execution_count": null,
   "id": "8a3af5c8",
   "metadata": {},
   "outputs": [],
   "source": [
    "null_vector"
   ]
  },
  {
   "cell_type": "code",
   "execution_count": null,
   "id": "7bb85bb4",
   "metadata": {},
   "outputs": [],
   "source": [
    "import numpy as np\n",
    "a = np.array([1, 2, 3, 4])\n",
    "\n",
    "print(a)\n",
    "print(a.shape)\n",
    "print(a.ndim)\n",
    "print(a.shape)\n",
    "print(a.size)\n",
    "print(a.itemsize)\n",
    "print(a.dtype)"
   ]
  },
  {
   "cell_type": "code",
   "execution_count": 13,
   "id": "55de5b2e",
   "metadata": {},
   "outputs": [
    {
     "name": "stdout",
     "output_type": "stream",
     "text": [
      "[1 2 3]\n",
      "1\n",
      "[10  2  3]\n",
      "[20  0  9]\n"
     ]
    }
   ],
   "source": [
    "a = np.array([1, 2, 3])\n",
    "\n",
    "print(a)\n",
    "print(a[0])\n",
    "a[0] = 10\n",
    "print(a)\n",
    "\n",
    "b = a * np.array([2, 0, 3])\n",
    "print(b)\n",
    "\n",
    "\n"
   ]
  },
  {
   "cell_type": "code",
   "execution_count": null,
   "id": "a8f6f626",
   "metadata": {},
   "outputs": [
    {
     "name": "stdout",
     "output_type": "stream",
     "text": [
      "[1, 2, 3, 1, 2, 3]\n",
      "[1 2 3]\n"
     ]
    }
   ],
   "source": [
    "l = [1, 2, 3]\n",
    "a = np.array([1, 2, 3])\n",
    "\n",
    "#l.append(4) it will add 4 to the above given python list another method is below of adding an element to python lists\n",
    "# l = l + (4) this another way to add an element 4 to the python list\n",
    "#l = l * 2 this will repeat the same elemnets within the list. \n",
    "print(l)\n",
    "#a.append([4]) says it is an error in numpy. \n",
    "#a = a + np.array([4]) it will add the number 4 with all the numbers of the np.arry has and this method is called broadcasting\n",
    "print(a)"
   ]
  }
 ],
 "metadata": {
  "kernelspec": {
   "display_name": "Python 3",
   "language": "python",
   "name": "python3"
  },
  "language_info": {
   "codemirror_mode": {
    "name": "ipython",
    "version": 3
   },
   "file_extension": ".py",
   "mimetype": "text/x-python",
   "name": "python",
   "nbconvert_exporter": "python",
   "pygments_lexer": "ipython3",
   "version": "3.13.3"
  }
 },
 "nbformat": 4,
 "nbformat_minor": 5
}
