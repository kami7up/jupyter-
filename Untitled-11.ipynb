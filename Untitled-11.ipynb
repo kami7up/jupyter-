{
 "cells": [
  {
   "cell_type": "code",
   "execution_count": 2,
   "id": "18048804",
   "metadata": {},
   "outputs": [],
   "source": [
    "import numpy as np"
   ]
  },
  {
   "cell_type": "code",
   "execution_count": null,
   "id": "73b6daaa",
   "metadata": {},
   "outputs": [
    {
     "name": "stdout",
     "output_type": "stream",
     "text": [
      "[12.2  4.3  7.5  9.6]\n",
      "[ 9.8 -0.3 -1.5 -1.6]\n",
      "[13.2  4.6 13.5 22.4]\n",
      "[9.16666667 0.86956522 0.66666667 0.71428571]\n",
      "[  17.76933693    4.92457765  140.29611541 2352.53423103]\n",
      "[110  20  30  40]\n"
     ]
    },
    {
     "data": {
      "text/plain": [
       "array([-0.99999021,  0.90929743,  0.14112001, -0.7568025 ])"
      ]
     },
     "execution_count": 6,
     "metadata": {},
     "output_type": "execute_result"
    }
   ],
   "source": [
    "a = np.array([11, 2, 3, 4])\n",
    "f = np.array([1.2, 2.3, 4.5, 5.6])\n",
    "print(a + f)\n",
    "print(a - f)\n",
    "print(a * f)\n",
    "print(a / f)\n",
    "print(a ** f)\n",
    "print(a * 10)\n",
    "\n",
    "# Universal functions (ufuncs)\n",
    "\n",
    "np.sin(a) \n",
    "\n"
   ]
  }
 ],
 "metadata": {
  "kernelspec": {
   "display_name": "Python 3",
   "language": "python",
   "name": "python3"
  },
  "language_info": {
   "codemirror_mode": {
    "name": "ipython",
    "version": 3
   },
   "file_extension": ".py",
   "mimetype": "text/x-python",
   "name": "python",
   "nbconvert_exporter": "python",
   "pygments_lexer": "ipython3",
   "version": "3.13.3"
  }
 },
 "nbformat": 4,
 "nbformat_minor": 5
}
